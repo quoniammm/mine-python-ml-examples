{
 "cells": [
  {
   "cell_type": "code",
   "execution_count": 48,
   "metadata": {
    "collapsed": true,
    "deletable": true,
    "editable": true
   },
   "outputs": [],
   "source": [
    "import pandas as pd\n",
    "df_wine = pd.read_csv('https://archive.ics.uci.edu/ml/machine-learning-databases/wine/wine.data', header=None)\n",
    "df_wine.columns = [\n",
    "'Class label',\n",
    "'Alcohol ',\n",
    "'Malic acid ',\n",
    "'Ash ',\n",
    "'Alcalinity of ash',\n",
    "'Magnesium' ,\n",
    "'Total phenols ',\n",
    "'Flavanoids ',\n",
    "'Nonflavanoid phenols ',\n",
    "'Proanthocyanins' ,\n",
    "'Color intensity',\n",
    "'Hue',\n",
    "'OD280/OD315 of diluted wines',\n",
    "'Proline'\n",
    "]"
   ]
  },
  {
   "cell_type": "code",
   "execution_count": 49,
   "metadata": {
    "collapsed": false,
    "deletable": true,
    "editable": true
   },
   "outputs": [],
   "source": [
    "from sklearn.cross_validation import train_test_split\n",
    "X, y = df_wine.iloc[:, 1:].values, df_wine.iloc[:, 0].values\n",
    "X_train, X_test, y_train, y_test = train_test_split(X, y, test_size=.3, random_state=0)"
   ]
  },
  {
   "cell_type": "markdown",
   "metadata": {
    "deletable": true,
    "editable": true
   },
   "source": [
    "# 1.标准化"
   ]
  },
  {
   "cell_type": "code",
   "execution_count": 50,
   "metadata": {
    "collapsed": true,
    "deletable": true,
    "editable": true
   },
   "outputs": [],
   "source": [
    "from sklearn.preprocessing import StandardScaler\n",
    "\n",
    "sc = StandardScaler()\n",
    "X_train_std= sc.fit_transform(X_train)\n",
    "X_test_std = sc.fit_transform(X_test)"
   ]
  },
  {
   "cell_type": "markdown",
   "metadata": {
    "deletable": true,
    "editable": true
   },
   "source": [
    "# 2.计算散布矩阵(Sb<类间散布矩阵>和Sw<类内散布矩阵>)"
   ]
  },
  {
   "cell_type": "code",
   "execution_count": 51,
   "metadata": {
    "collapsed": false,
    "deletable": true,
    "editable": true
   },
   "outputs": [],
   "source": [
    "import numpy as np\n",
    "np.set_printoptions(precision=4)"
   ]
  },
  {
   "cell_type": "code",
   "execution_count": 52,
   "metadata": {
    "collapsed": true,
    "deletable": true,
    "editable": true
   },
   "outputs": [],
   "source": [
    "mean_vecs = []"
   ]
  },
  {
   "cell_type": "code",
   "execution_count": 53,
   "metadata": {
    "collapsed": false,
    "deletable": true,
    "editable": true
   },
   "outputs": [
    {
     "data": {
      "text/plain": [
       "[array([ 0.9259, -0.3091,  0.2592, -0.7989,  0.3039,  0.9608,  1.0515,\n",
       "        -0.6306,  0.5354,  0.2209,  0.4855,  0.798 ,  1.2017]),\n",
       " array([-0.8727, -0.3854, -0.4437,  0.2481, -0.2409, -0.1059,  0.0187,\n",
       "        -0.0164,  0.1095, -0.8796,  0.4392,  0.2776, -0.7016]),\n",
       " array([ 0.1637,  0.8929,  0.3249,  0.5658, -0.01  , -0.9499, -1.228 ,\n",
       "         0.7436, -0.7652,  0.979 , -1.1698, -1.3007, -0.3912])]"
      ]
     },
     "execution_count": 53,
     "metadata": {},
     "output_type": "execute_result"
    }
   ],
   "source": [
    "for label in range(1, 4):\n",
    "    mean_vecs.append(np.mean(\n",
    "        X_train_std[y_train == label], axis=0\n",
    "    ))\n",
    "\n",
    "mean_vecs"
   ]
  },
  {
   "cell_type": "code",
   "execution_count": 54,
   "metadata": {
    "collapsed": true,
    "deletable": true,
    "editable": true
   },
   "outputs": [],
   "source": [
    "d = 13 # number of features\n",
    "S_W = np.zeros((d, d))"
   ]
  },
  {
   "cell_type": "code",
   "execution_count": 55,
   "metadata": {
    "collapsed": false,
    "deletable": true,
    "editable": true
   },
   "outputs": [],
   "source": [
    "# for label, mv in zip(range(1, 4), mean_vecs):\n",
    "#     class_scatter = np.zeros((d, d))\n",
    "#     for row in X[y == label]:\n",
    "#         row, mv = row.reshape(d, 1), mv.reshape(d, 1)\n",
    "#         class_scatter += (row - mv).dot((row - mv).T)\n",
    "    \n",
    "#     S_W += class_scatter\n",
    "    \n",
    "# S_W[0]"
   ]
  },
  {
   "cell_type": "code",
   "execution_count": 56,
   "metadata": {
    "collapsed": false,
    "deletable": true,
    "editable": true
   },
   "outputs": [
    {
     "data": {
      "text/plain": [
       "(13, 13)"
      ]
     },
     "execution_count": 56,
     "metadata": {},
     "output_type": "execute_result"
    }
   ],
   "source": [
    "S_W.shape"
   ]
  },
  {
   "cell_type": "code",
   "execution_count": 57,
   "metadata": {
    "collapsed": false,
    "deletable": true,
    "editable": true
   },
   "outputs": [
    {
     "name": "stdout",
     "output_type": "stream",
     "text": [
      "49\n",
      "35\n"
     ]
    }
   ],
   "source": [
    "X_1 = X_train_std[y_train == 1]\n",
    "X_2 = X_train_std[y_train == 2]\n",
    "X_3 = X_train_std[y_train == 3]\n",
    "\n",
    "# print(X_1.T)\n",
    "print(len(X_2))\n",
    "print(len(X_3))"
   ]
  },
  {
   "cell_type": "code",
   "execution_count": 58,
   "metadata": {
    "collapsed": false,
    "deletable": true,
    "editable": true
   },
   "outputs": [],
   "source": [
    "# S_W = np.cov(X_1.T) * 40 + np.cov(X_2.T) * 49 + np.cov(X_2.T) * 35\n",
    "# S_W[0]"
   ]
  },
  {
   "cell_type": "code",
   "execution_count": 59,
   "metadata": {
    "collapsed": false,
    "deletable": true,
    "editable": true
   },
   "outputs": [],
   "source": [
    "# S_W.shape"
   ]
  },
  {
   "cell_type": "code",
   "execution_count": 60,
   "metadata": {
    "collapsed": false,
    "deletable": true,
    "editable": true
   },
   "outputs": [],
   "source": [
    "# d = 13 # number of features\n",
    "# S_W = np.zeros((d, d))"
   ]
  },
  {
   "cell_type": "code",
   "execution_count": 61,
   "metadata": {
    "collapsed": false,
    "deletable": true,
    "editable": true
   },
   "outputs": [
    {
     "data": {
      "text/plain": [
       "array([ 1.2458,  0.0514, -0.0329, -0.0895,  0.1155,  0.2454,  0.1501,\n",
       "       -0.0557,  0.0991,  0.4879,  0.0238, -0.007 ,  0.1342])"
      ]
     },
     "execution_count": 61,
     "metadata": {},
     "output_type": "execute_result"
    }
   ],
   "source": [
    "for label, mv in zip(range(1, 4), mean_vecs):\n",
    "    class_scatter = np.cov(X_train_std[y_train==label].T)\n",
    "    # print(np.cov(X_train_std[y_train==label].T))\n",
    "    S_W += class_scatter\n",
    "    \n",
    "S_W[0]"
   ]
  },
  {
   "cell_type": "code",
   "execution_count": 62,
   "metadata": {
    "collapsed": false,
    "deletable": true,
    "editable": true
   },
   "outputs": [
    {
     "data": {
      "text/plain": [
       "(13, 13)"
      ]
     },
     "execution_count": 62,
     "metadata": {},
     "output_type": "execute_result"
    }
   ],
   "source": [
    "mean_overall = np.mean(X_train_std, axis=0)\n",
    "\n",
    "d = 13\n",
    "S_B = np.zeros((d, d))\n",
    "for i, mean_vec in enumerate(mean_vecs):\n",
    "    n = X[y==i+1, :].shape[0]\n",
    "    mean_vec = mean_vec.reshape(d, 1)\n",
    "    mean_overall.reshape(d, 1)\n",
    "    \n",
    "    S_B += n * (mean_vec - mean_overall).dot((mean_vec - mean_overall).T)\n",
    "    \n",
    "S_B.shape"
   ]
  },
  {
   "cell_type": "code",
   "execution_count": 63,
   "metadata": {
    "collapsed": false,
    "deletable": true,
    "editable": true
   },
   "outputs": [
    {
     "data": {
      "text/plain": [
       "array([ 1.2458,  0.0514, -0.0329, -0.0895,  0.1155,  0.2454,  0.1501,\n",
       "       -0.0557,  0.0991,  0.4879,  0.0238, -0.007 ,  0.1342])"
      ]
     },
     "execution_count": 63,
     "metadata": {},
     "output_type": "execute_result"
    }
   ],
   "source": [
    "S_W[0]"
   ]
  },
  {
   "cell_type": "code",
   "execution_count": 64,
   "metadata": {
    "collapsed": false,
    "deletable": true,
    "editable": true
   },
   "outputs": [
    {
     "data": {
      "text/plain": [
       "array([ 1377.2393,   182.1787,   574.6657,  -709.3955,   408.8196,\n",
       "         670.5792,   606.1913,  -358.6297,   213.815 ,   965.4504,\n",
       "        -128.5446,   210.2302,  1378.5545])"
      ]
     },
     "execution_count": 64,
     "metadata": {},
     "output_type": "execute_result"
    }
   ],
   "source": [
    "S_B[0]"
   ]
  },
  {
   "cell_type": "code",
   "execution_count": 65,
   "metadata": {
    "collapsed": true,
    "deletable": true,
    "editable": true
   },
   "outputs": [],
   "source": [
    "eigen_vals, eigen_vecs = np.linalg.eig(np.linalg.inv(S_W).dot(S_B))"
   ]
  },
  {
   "cell_type": "code",
   "execution_count": 66,
   "metadata": {
    "collapsed": false,
    "deletable": true,
    "editable": true
   },
   "outputs": [
    {
     "name": "stdout",
     "output_type": "stream",
     "text": [
      "8359.1999965\n",
      "2926.1307641\n",
      "1.37845290737e-12\n",
      "9.78330852402e-13\n",
      "5.73312515658e-13\n",
      "5.73312515658e-13\n",
      "4.94232915763e-13\n",
      "4.94232915763e-13\n",
      "4.43286392667e-13\n",
      "4.43286392667e-13\n",
      "3.28949007661e-13\n",
      "9.99563022435e-14\n",
      "9.99563022435e-14\n"
     ]
    }
   ],
   "source": [
    "eigens_pairs = [(np.abs(eigen_vals[i]), eigen_vecs[:, i]) for i in range(len(eigen_vals))]\n",
    "eigens_pairs = sorted(eigens_pairs, key=lambda k: k[0], reverse=True)\n",
    "# eigens_pairs\n",
    "for eigen_val in eigens_pairs:\n",
    "    print(eigen_val[0])"
   ]
  },
  {
   "cell_type": "code",
   "execution_count": 68,
   "metadata": {
    "collapsed": false
   },
   "outputs": [
    {
     "data": {
      "text/plain": [
       "array([  8.3592e+03 +0.0000e+00j,  -1.3785e-12 +0.0000e+00j,\n",
       "         2.9261e+03 +0.0000e+00j,  -9.7833e-13 +0.0000e+00j,\n",
       "        -4.4065e-13 +4.8261e-14j,  -4.4065e-13 -4.8261e-14j,\n",
       "         3.2160e-13 +4.7461e-13j,   3.2160e-13 -4.7461e-13j,\n",
       "         4.6121e-13 +1.7763e-13j,   4.6121e-13 -1.7763e-13j,\n",
       "        -7.6080e-14 +6.4831e-14j,  -7.6080e-14 -6.4831e-14j,\n",
       "         3.2895e-13 +0.0000e+00j])"
      ]
     },
     "execution_count": 68,
     "metadata": {},
     "output_type": "execute_result"
    }
   ],
   "source": [
    "eigen_vals"
   ]
  },
  {
   "cell_type": "code",
   "execution_count": 67,
   "metadata": {
    "collapsed": false,
    "deletable": true,
    "editable": true
   },
   "outputs": [
    {
     "data": {
      "text/plain": [
       "11285.33076060277"
      ]
     },
     "execution_count": 67,
     "metadata": {},
     "output_type": "execute_result"
    }
   ],
   "source": [
    "tot = sum(eigen_vals.real)\n",
    "tot"
   ]
  },
  {
   "cell_type": "code",
   "execution_count": 69,
   "metadata": {
    "collapsed": false
   },
   "outputs": [
    {
     "data": {
      "text/plain": [
       "[0.74071377913713721,\n",
       " 0.25928622086286307,\n",
       " 4.0868064931390002e-17,\n",
       " 4.0868064931390002e-17,\n",
       " 2.9148370981679983e-17,\n",
       " 2.8497379958601219e-17,\n",
       " 2.8497379958601219e-17,\n",
       " -6.741515479785434e-18,\n",
       " -6.741515479785434e-18,\n",
       " -3.9046394622612755e-17,\n",
       " -3.9046394622612755e-17,\n",
       " -8.6690489907290029e-17,\n",
       " -1.2214554775716371e-16]"
      ]
     },
     "execution_count": 69,
     "metadata": {},
     "output_type": "execute_result"
    }
   ],
   "source": [
    "discr = [(i/tot) for i in sorted(eigen_vals.real, reverse=True)]\n",
    "discr"
   ]
  },
  {
   "cell_type": "code",
   "execution_count": 70,
   "metadata": {
    "collapsed": false
   },
   "outputs": [
    {
     "data": {
      "text/plain": [
       "array([ 0.7407,  1.    ,  1.    ,  1.    ,  1.    ,  1.    ,  1.    ,\n",
       "        1.    ,  1.    ,  1.    ,  1.    ,  1.    ,  1.    ])"
      ]
     },
     "execution_count": 70,
     "metadata": {},
     "output_type": "execute_result"
    }
   ],
   "source": [
    "cum_discr = np.cumsum(discr)\n",
    "cum_discr"
   ]
  },
  {
   "cell_type": "code",
   "execution_count": 72,
   "metadata": {
    "collapsed": false
   },
   "outputs": [
    {
     "name": "stderr",
     "output_type": "stream",
     "text": [
      "/home/quoniam/anaconda2/envs/tensorflow/lib/python3.5/site-packages/matplotlib/axes/_axes.py:545: UserWarning: No labelled objects found. Use label='...' kwarg on individual plots.\n",
      "  warnings.warn(\"No labelled objects found. \"\n"
     ]
    },
    {
     "data": {
      "image/png": "[encoded data removed]",
      "text/plain": [
       "<matplotlib.figure.Figure at 0x7fe1b9cec4a8>"
      ]
     },
     "metadata": {},
     "output_type": "display_data"
    }
   ],
   "source": [
    "import matplotlib.pyplot as plt\n",
    "import seaborn as sns\n",
    "\n",
    "plt.bar(range(1, 14), discr, alpha=.5, align='center')\n",
    "plt.step(range(1, 14), cum_discr, where='mid')\n",
    "plt.legend(loc='upper left')\n",
    "plt.show()"
   ]
  },
  {
   "cell_type": "code",
   "execution_count": 74,
   "metadata": {
    "collapsed": false
   },
   "outputs": [
    {
     "name": "stderr",
     "output_type": "stream",
     "text": [
      "/home/quoniam/anaconda2/envs/tensorflow/lib/python3.5/site-packages/numpy/core/numeric.py:533: ComplexWarning: Casting complex values to real discards the imaginary part\n",
      "  return array(a, dtype, copy=False, order=order, subok=True)\n"
     ]
    },
    {
     "data": {
      "image/png": "[encoded data removed]",
      "text/plain": [
       "<matplotlib.figure.Figure at 0x7fe1b4ed06a0>"
      ]
     },
     "metadata": {},
     "output_type": "display_data"
    }
   ],
   "source": [
    "w = np.hstack((eigens_pairs[0][1][:, np.newaxis],\n",
    "eigens_pairs[1][1][:, np.newaxis]))\n",
    "X_train_lda = X_train_std.dot(w)\n",
    "# 124 x 2\n",
    "X_train_lda\n",
    "\n",
    "colors = ['r', 'b', 'g']\n",
    "markers = ['s', 'x', 'o']\n",
    "for l, c, m in zip(np.unique(y_train), colors, markers):\n",
    "    plt.scatter(X_train_lda[y_train == l, 0],\n",
    "        X_train_lda[y_train == l, 1],\n",
    "        c=c, label=l, marker=m)\n",
    "plt.show()"
   ]
  },
  {
   "cell_type": "code",
   "execution_count": 75,
   "metadata": {
    "collapsed": true
   },
   "outputs": [],
   "source": [
    "import sys\n",
    "sys.path.append('../commonLib')"
   ]
  },
  {
   "cell_type": "code",
   "execution_count": null,
   "metadata": {
    "collapsed": true
   },
   "outputs": [],
   "source": []
  }
 ],
 "metadata": {
  "kernelspec": {
   "display_name": "Python 3",
   "language": "python",
   "name": "python3"
  },
  "language_info": {
   "codemirror_mode": {
    "name": "ipython",
    "version": 3
   },
   "file_extension": ".py",
   "mimetype": "text/x-python",
   "name": "python",
   "nbconvert_exporter": "python",
   "pygments_lexer": "ipython3",
   "version": "3.5.3"
  }
 },
 "nbformat": 4,
 "nbformat_minor": 2
}

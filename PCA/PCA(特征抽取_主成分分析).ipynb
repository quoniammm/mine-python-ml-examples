{
 "cells": [
  {
   "cell_type": "code",
   "execution_count": 6,
   "metadata": {
    "collapsed": false,
    "deletable": true,
    "editable": true
   },
   "outputs": [],
   "source": [
    "import pandas as pd\n",
    "df_wine = pd.read_csv('https://archive.ics.uci.edu/ml/machine-learning-databases/wine/wine.data', header=None)\n",
    "df_wine.columns = [\n",
    "'Class label',\n",
    "'Alcohol ',\n",
    "'Malic acid ',\n",
    "'Ash ',\n",
    "'Alcalinity of ash',\n",
    "'Magnesium' ,\n",
    "'Total phenols ',\n",
    "'Flavanoids ',\n",
    "'Nonflavanoid phenols ',\n",
    "'Proanthocyanins' ,\n",
    "'Color intensity',\n",
    "'Hue',\n",
    "'OD280/OD315 of diluted wines',\n",
    "'Proline'\n",
    "]"
   ]
  },
  {
   "cell_type": "code",
   "execution_count": 7,
   "metadata": {
    "collapsed": false,
    "deletable": true,
    "editable": true
   },
   "outputs": [
    {
     "name": "stderr",
     "output_type": "stream",
     "text": [
      "/home/quoniam/anaconda2/envs/tensorflow/lib/python3.5/site-packages/sklearn/cross_validation.py:44: DeprecationWarning: This module was deprecated in version 0.18 in favor of the model_selection module into which all the refactored classes and functions are moved. Also note that the interface of the new CV iterators are different from that of this module. This module will be removed in 0.20.\n",
      "  \"This module will be removed in 0.20.\", DeprecationWarning)\n"
     ]
    }
   ],
   "source": [
    "from sklearn.cross_validation import train_test_split\n",
    "X, y = df_wine.iloc[:, 1:].values, df_wine.iloc[:, 0].values\n",
    "X_train, X_test, y_train, y_test = train_test_split(X, y, test_size=.3, random_state=0)"
   ]
  },
  {
   "cell_type": "markdown",
   "metadata": {
    "collapsed": true,
    "deletable": true,
    "editable": true
   },
   "source": [
    "# 1.标准化"
   ]
  },
  {
   "cell_type": "code",
   "execution_count": 8,
   "metadata": {
    "collapsed": true
   },
   "outputs": [],
   "source": [
    "from sklearn.preprocessing import StandardScaler\n",
    "\n",
    "sc = StandardScaler()\n",
    "X_train_std= sc.fit_transform(X_train)\n",
    "X_test_std = sc.fit_transform(X_test)"
   ]
  },
  {
   "cell_type": "markdown",
   "metadata": {},
   "source": [
    "# 2. (1)计算数据集协方差矩阵的特征向量和特征值"
   ]
  },
  {
   "cell_type": "code",
   "execution_count": 9,
   "metadata": {
    "collapsed": true
   },
   "outputs": [],
   "source": [
    "import numpy as np\n",
    "\n",
    "cov_mat = np.cov(X_train_std.T)"
   ]
  },
  {
   "cell_type": "code",
   "execution_count": 10,
   "metadata": {
    "collapsed": false
   },
   "outputs": [
    {
     "data": {
      "text/plain": [
       "array([[ 1.00813008,  0.08797701,  0.23066952, -0.32868099,  0.2141631 ,\n",
       "         0.35576761,  0.2991246 , -0.16913744,  0.09649074,  0.56962271,\n",
       "        -0.04781543,  0.07403492,  0.63277882],\n",
       "       [ 0.08797701,  1.00813008,  0.2016416 ,  0.30658143, -0.06030917,\n",
       "        -0.30124242, -0.41221162,  0.36616593, -0.19190146,  0.30749173,\n",
       "        -0.54992807, -0.39352761, -0.20253906],\n",
       "       [ 0.23066952,  0.2016416 ,  1.00813008,  0.44971971,  0.18321413,\n",
       "         0.12235533,  0.06130256,  0.18655693, -0.02607834,  0.24555355,\n",
       "        -0.10928021, -0.01820002,  0.15948032],\n",
       "       [-0.32868099,  0.30658143,  0.44971971,  1.00813008, -0.08930998,\n",
       "        -0.37018442, -0.41804463,  0.40212108, -0.25765667, -0.03090225,\n",
       "        -0.25313262, -0.28934372, -0.48504311],\n",
       "       [ 0.2141631 , -0.06030917,  0.18321413, -0.08930998,  1.00813008,\n",
       "         0.16513295,  0.14458703, -0.30763563,  0.27228619,  0.1260674 ,\n",
       "         0.05792599,  0.01596134,  0.31461066],\n",
       "       [ 0.35576761, -0.30124242,  0.12235533, -0.37018442,  0.16513295,\n",
       "         1.00813008,  0.88119961, -0.45396901,  0.6196806 , -0.06935051,\n",
       "         0.45718802,  0.72214462,  0.56326772],\n",
       "       [ 0.2991246 , -0.41221162,  0.06130256, -0.41804463,  0.14458703,\n",
       "         0.88119961,  1.00813008, -0.58329952,  0.66598997, -0.19183675,\n",
       "         0.58331869,  0.80205789,  0.55759374],\n",
       "       [-0.16913744,  0.36616593,  0.18655693,  0.40212108, -0.30763563,\n",
       "        -0.45396901, -0.58329952,  1.00813008, -0.35394023,  0.15451294,\n",
       "        -0.3178224 , -0.49379349, -0.36456587],\n",
       "       [ 0.09649074, -0.19190146, -0.02607834, -0.25765667,  0.27228619,\n",
       "         0.6196806 ,  0.66598997, -0.35394023,  1.00813008, -0.07018068,\n",
       "         0.32282167,  0.51036557,  0.35552117],\n",
       "       [ 0.56962271,  0.30749173,  0.24555355, -0.03090225,  0.1260674 ,\n",
       "        -0.06935051, -0.19183675,  0.15451294, -0.07018068,  1.00813008,\n",
       "        -0.52395358, -0.45165752,  0.31605457],\n",
       "       [-0.04781543, -0.54992807, -0.10928021, -0.25313262,  0.05792599,\n",
       "         0.45718802,  0.58331869, -0.3178224 ,  0.32282167, -0.52395358,\n",
       "         1.00813008,  0.60022569,  0.2452794 ],\n",
       "       [ 0.07403492, -0.39352761, -0.01820002, -0.28934372,  0.01596134,\n",
       "         0.72214462,  0.80205789, -0.49379349,  0.51036557, -0.45165752,\n",
       "         0.60022569,  1.00813008,  0.32437157],\n",
       "       [ 0.63277882, -0.20253906,  0.15948032, -0.48504311,  0.31461066,\n",
       "         0.56326772,  0.55759374, -0.36456587,  0.35552117,  0.31605457,\n",
       "         0.2452794 ,  0.32437157,  1.00813008]])"
      ]
     },
     "execution_count": 10,
     "metadata": {},
     "output_type": "execute_result"
    }
   ],
   "source": [
    "cov_mat"
   ]
  },
  {
   "cell_type": "code",
   "execution_count": 11,
   "metadata": {
    "collapsed": true
   },
   "outputs": [],
   "source": [
    "eigen_vals, eigen_vecs = np.linalg.eig(cov_mat)"
   ]
  },
  {
   "cell_type": "code",
   "execution_count": 13,
   "metadata": {
    "collapsed": false
   },
   "outputs": [
    {
     "name": "stdout",
     "output_type": "stream",
     "text": [
      "\n",
      " 协方差矩阵的特征值: \n",
      "\n",
      "[ 4.8923083   2.46635032  1.42809973  1.01233462  0.84906459  0.60181514\n",
      "  0.52251546  0.08414846  0.33051429  0.29595018  0.16831254  0.21432212\n",
      "  0.2399553 ]\n"
     ]
    }
   ],
   "source": [
    "print('\\n 协方差矩阵的特征值: \\n\\n%s' % eigen_vals)"
   ]
  },
  {
   "cell_type": "markdown",
   "metadata": {},
   "source": [
    "# 2. (2)绘制特征值的方差贡献率(variance explained ratios)图像"
   ]
  },
  {
   "cell_type": "code",
   "execution_count": 15,
   "metadata": {
    "collapsed": false
   },
   "outputs": [
    {
     "data": {
      "text/plain": [
       "13.105691056910587"
      ]
     },
     "execution_count": 15,
     "metadata": {},
     "output_type": "execute_result"
    }
   ],
   "source": [
    "tot = sum(eigen_vals)\n",
    "tot"
   ]
  },
  {
   "cell_type": "code",
   "execution_count": 17,
   "metadata": {
    "collapsed": false
   },
   "outputs": [
    {
     "data": {
      "text/plain": [
       "[0.37329647723490722,\n",
       " 0.18818926106599562,\n",
       " 0.10896790724757788,\n",
       " 0.077243894771248614,\n",
       " 0.064785946018261695,\n",
       " 0.045920138114781434,\n",
       " 0.039869355976347061,\n",
       " 0.025219142607261553,\n",
       " 0.022581806817679659,\n",
       " 0.018309244719526881,\n",
       " 0.016353362655051436,\n",
       " 0.012842705837492707,\n",
       " 0.0064207569338683062]"
      ]
     },
     "execution_count": 17,
     "metadata": {},
     "output_type": "execute_result"
    }
   ],
   "source": [
    "var_exp = [(i/tot) for i in sorted(eigen_vals, reverse=True)]\n",
    "var_exp"
   ]
  },
  {
   "cell_type": "code",
   "execution_count": 25,
   "metadata": {
    "collapsed": false
   },
   "outputs": [
    {
     "data": {
      "text/plain": [
       "array([ 0.37329648,  0.56148574,  0.67045365,  0.74769754,  0.81248349,\n",
       "        0.85840362,  0.89827298,  0.92349212,  0.94607393,  0.96438317,\n",
       "        0.98073654,  0.99357924,  1.        ])"
      ]
     },
     "execution_count": 25,
     "metadata": {},
     "output_type": "execute_result"
    }
   ],
   "source": [
    "cum_var_sum = np.cumsum(var_exp)\n",
    "cum_var_sum"
   ]
  },
  {
   "cell_type": "code",
   "execution_count": 18,
   "metadata": {
    "collapsed": true
   },
   "outputs": [],
   "source": [
    "import matplotlib.pyplot as plt\n",
    "import seaborn as sns"
   ]
  },
  {
   "cell_type": "code",
   "execution_count": 31,
   "metadata": {
    "collapsed": false
   },
   "outputs": [
    {
     "data": {
      "image/png": "[encoded data removed]",
      "text/plain": [
       "<matplotlib.figure.Figure at 0x7fd5664111d0>"
      ]
     },
     "metadata": {},
     "output_type": "display_data"
    }
   ],
   "source": [
    "plt.bar(range(1, 14), var_exp, alpha=.5, align='center', label=\"individual explained variance\")\n",
    "plt.step(range(1, 14), cum_var_sum, where='mid', label=\"cumulative explained variance\")\n",
    "plt.legend(loc='upper left')\n",
    "plt.show()"
   ]
  },
  {
   "cell_type": "markdown",
   "metadata": {},
   "source": [
    "# 3.特征转换"
   ]
  },
  {
   "cell_type": "code",
   "execution_count": 53,
   "metadata": {
    "collapsed": false
   },
   "outputs": [
    {
     "data": {
      "text/plain": [
       "[(4.89230830327375,\n",
       "  array([ 0.14669811, -0.24224554, -0.02993442, -0.25519002,  0.12079772,\n",
       "          0.38934455,  0.42326486, -0.30634956,  0.30572219, -0.09869191,\n",
       "          0.30032535,  0.36821154,  0.29259713])),\n",
       " (2.4663503157592306,\n",
       "  array([ 0.50417079,  0.24216889,  0.28698484, -0.06468718,  0.22995385,\n",
       "          0.09363991,  0.01088622,  0.01870216,  0.03040352,  0.54527081,\n",
       "         -0.27924322, -0.174365  ,  0.36315461])),\n",
       " (1.4280997275048437,\n",
       "  array([-0.11723515,  0.14994658,  0.65639439,  0.58428234,  0.08226275,\n",
       "          0.18080442,  0.14295933,  0.17223475,  0.1583621 , -0.14242171,\n",
       "          0.09323872,  0.19607741, -0.09731711])),\n",
       " (1.0123346209044954,\n",
       "  array([ 0.20625461,  0.1304893 ,  0.01515363, -0.09042209, -0.83912835,\n",
       "          0.19317948,  0.14045955,  0.33733262, -0.1147529 ,  0.07878571,\n",
       "          0.02417403,  0.18402864,  0.05676778])),\n",
       " (0.84906459334502427,\n",
       "  array([-0.18781595,  0.56863978, -0.29920943, -0.04124995, -0.02719713,\n",
       "          0.14064543,  0.09268665, -0.08584168,  0.56510524,  0.01323461,\n",
       "         -0.37261081,  0.08937967, -0.21752948])),\n",
       " (0.60181514342299003,\n",
       "  array([-0.14885132, -0.26905276, -0.09333861, -0.10134239,  0.11256735,\n",
       "          0.01222488, -0.05503452,  0.69534088,  0.49835441,  0.15945216,\n",
       "          0.21651535, -0.23517236,  0.10562138])),\n",
       " (0.52251546206399635,\n",
       "  array([-0.17926366, -0.59263673,  0.06073346,  0.25032387, -0.28524056,\n",
       "          0.05314553,  0.07989941, -0.29737172,  0.20251913,  0.39736411,\n",
       "         -0.38465475, -0.08629033, -0.13029829])),\n",
       " (0.33051429173094049,\n",
       "  array([-0.40305492, -0.10183371,  0.35184142, -0.50045728,  0.08373917,\n",
       "          0.13511146,  0.00336017,  0.19012076, -0.17602994, -0.21493067,\n",
       "         -0.51725944,  0.13645604,  0.16775843])),\n",
       " (0.29595018365934683,\n",
       "  array([-0.41719758,  0.21710149,  0.12854985,  0.04733441, -0.27891878,\n",
       "         -0.28098565, -0.0391443 , -0.27862219,  0.14853946, -0.00410241,\n",
       "          0.19781412, -0.23813815,  0.63735021])),\n",
       " (0.23995530477949081,\n",
       "  array([  4.13320786e-04,  -8.78560762e-02,  -4.52518598e-01,\n",
       "           4.86169765e-01,   1.14764951e-01,   9.45645138e-02,\n",
       "          -1.00444099e-01,   2.00128778e-01,  -1.39942067e-01,\n",
       "          -1.15349466e-01,  -3.02254353e-01,   3.18414303e-01,\n",
       "           5.03247839e-01])),\n",
       " (0.21432211869872317,\n",
       "  array([ 0.40356719, -0.152475  ,  0.16837606, -0.06709029, -0.10239686,\n",
       "         -0.61860015, -0.13968028,  0.00163324,  0.38856849, -0.3083459 ,\n",
       "         -0.20045639,  0.28410033,  0.03755468])),\n",
       " (0.16831253504096155,\n",
       "  array([ 0.27566086, -0.0813845 , -0.01297513,  0.0989088 , -0.09592977,\n",
       "          0.28389764,  0.11672921, -0.03965663,  0.08606027, -0.57165189,\n",
       "         -0.19884453, -0.65086971,  0.07123771])),\n",
       " (0.084148456726794496,\n",
       "  array([-0.05546872,  0.03327316, -0.10061857,  0.05616586,  0.09584239,\n",
       "         -0.42126512,  0.8472247 ,  0.1662568 , -0.16619747,  0.03961736,\n",
       "         -0.10538369, -0.09950556, -0.01606618]))]"
      ]
     },
     "execution_count": 53,
     "metadata": {},
     "output_type": "execute_result"
    }
   ],
   "source": [
    "eigens_pairs = [(np.abs(eigen_vals[i]), eigen_vecs[:, i]) for i in range(len(eigen_vals))]\n",
    "eigens_pairs.sort(reverse=True)\n",
    "eigens_pairs"
   ]
  },
  {
   "cell_type": "code",
   "execution_count": 54,
   "metadata": {
    "collapsed": false
   },
   "outputs": [
    {
     "data": {
      "text/plain": [
       "array([[ 0.14669811,  0.50417079],\n",
       "       [-0.24224554,  0.24216889],\n",
       "       [-0.02993442,  0.28698484],\n",
       "       [-0.25519002, -0.06468718],\n",
       "       [ 0.12079772,  0.22995385],\n",
       "       [ 0.38934455,  0.09363991],\n",
       "       [ 0.42326486,  0.01088622],\n",
       "       [-0.30634956,  0.01870216],\n",
       "       [ 0.30572219,  0.03040352],\n",
       "       [-0.09869191,  0.54527081],\n",
       "       [ 0.30032535, -0.27924322],\n",
       "       [ 0.36821154, -0.174365  ],\n",
       "       [ 0.29259713,  0.36315461]])"
      ]
     },
     "execution_count": 54,
     "metadata": {},
     "output_type": "execute_result"
    }
   ],
   "source": [
    "# 13 x 2 的映射矩阵 w\n",
    "w = np.hstack((eigens_pairs[0][1][:, np.newaxis],\n",
    "eigens_pairs[1][1][:, np.newaxis]))\n",
    "w"
   ]
  },
  {
   "cell_type": "code",
   "execution_count": 55,
   "metadata": {
    "collapsed": false
   },
   "outputs": [
    {
     "data": {
      "text/plain": [
       "array([ 2.59891628,  0.00484089])"
      ]
     },
     "execution_count": 55,
     "metadata": {},
     "output_type": "execute_result"
    }
   ],
   "source": [
    "X_train_std[0].dot(w)"
   ]
  },
  {
   "cell_type": "code",
   "execution_count": 56,
   "metadata": {
    "collapsed": false
   },
   "outputs": [
    {
     "data": {
      "text/plain": [
       "array([[ 2.59891628,  0.00484089],\n",
       "       [ 0.15819134, -2.26659577],\n",
       "       [-2.6372337 ,  2.66488569],\n",
       "       [-2.52848449,  0.51846618],\n",
       "       [ 1.70922581, -0.91719459],\n",
       "       [-2.83057003,  0.41936129],\n",
       "       [-2.82251879,  1.99763147],\n",
       "       [ 1.36618015,  0.04639099],\n",
       "       [-2.46584868, -0.07932269],\n",
       "       [-2.28554906, -0.40096658],\n",
       "       [ 1.14246632, -2.39587633],\n",
       "       [-2.28497881, -1.09274988],\n",
       "       [-2.52924945,  0.6477328 ],\n",
       "       [ 0.169245  , -1.1264982 ],\n",
       "       [ 2.53088166,  1.05798498],\n",
       "       [-0.71596964, -2.80365836],\n",
       "       [ 2.46922033, -0.15871191],\n",
       "       [-0.58044574, -0.69290749],\n",
       "       [ 0.54583852,  0.41042188],\n",
       "       [ 3.5604963 ,  1.42561284],\n",
       "       [ 1.58679826, -1.51260121],\n",
       "       [ 2.54872139, -0.05280515],\n",
       "       [-3.59338727,  0.88321901],\n",
       "       [-1.60406659,  2.40373662],\n",
       "       [ 1.48668426, -1.40863724],\n",
       "       [ 0.00830468, -2.04898307],\n",
       "       [-0.15646658, -2.80278355],\n",
       "       [-2.39863877,  2.47524175],\n",
       "       [-3.13549157, -0.29421321],\n",
       "       [ 3.30221023,  0.40939296],\n",
       "       [-3.53069904,  1.79971521],\n",
       "       [-0.45566459, -2.61242833],\n",
       "       [-0.58840115, -1.98301934],\n",
       "       [-1.16637216, -0.83784744],\n",
       "       [ 1.03763587, -1.37755233],\n",
       "       [ 1.95890184, -1.62578024],\n",
       "       [ 2.76990407,  1.86073384],\n",
       "       [ 2.06150478,  1.32280528],\n",
       "       [ 0.84107017, -2.00894711],\n",
       "       [ 3.52522122,  1.41880443],\n",
       "       [-3.82504747,  0.11741931],\n",
       "       [ 1.70427554, -0.46267479],\n",
       "       [-3.44482795,  0.89793105],\n",
       "       [ 3.14119715,  0.80251074],\n",
       "       [ 2.34148171,  1.69991384],\n",
       "       [ 1.25162098, -0.91305357],\n",
       "       [ 3.57847538,  1.78146353],\n",
       "       [ 0.93052986, -2.26747372],\n",
       "       [ 0.50457042, -1.9619121 ],\n",
       "       [ 3.82251943,  2.88150786],\n",
       "       [-2.3761711 ,  2.15480504],\n",
       "       [-1.55524357, -1.38425679],\n",
       "       [ 2.51130377,  1.33358811],\n",
       "       [-0.72998664, -0.21814915],\n",
       "       [-0.77183165, -2.39360847],\n",
       "       [ 0.84583296, -1.51455514],\n",
       "       [-1.26515775,  0.04977931],\n",
       "       [ 2.20903303,  0.85715074],\n",
       "       [-3.89082853,  0.54194575],\n",
       "       [-1.8063292 ,  1.31606219],\n",
       "       [ 4.37183355,  2.33594051],\n",
       "       [ 3.31126031,  1.43233851],\n",
       "       [-1.53830238, -1.9287237 ],\n",
       "       [-2.72256164,  2.15319971],\n",
       "       [ 2.81726412,  1.3810016 ],\n",
       "       [ 1.85165682,  0.74908527],\n",
       "       [-0.45023913, -2.16233055],\n",
       "       [-0.10551849, -1.20083745],\n",
       "       [ 1.96348867,  0.21556727],\n",
       "       [ 2.23499535,  1.29680173],\n",
       "       [ 0.81061036,  0.32968368],\n",
       "       [-3.28947263,  2.24576835],\n",
       "       [ 0.92542109, -0.76230572],\n",
       "       [ 2.3186051 , -0.12948205],\n",
       "       [ 0.79856144, -1.42131736],\n",
       "       [-2.27737367,  0.55018386],\n",
       "       [ 3.14731552,  1.31152545],\n",
       "       [-1.73268901, -1.77855936],\n",
       "       [-2.85178367,  0.15732478],\n",
       "       [-2.682777  ,  0.33277815],\n",
       "       [ 1.93435789,  1.6156844 ],\n",
       "       [ 1.61938048, -0.63200211],\n",
       "       [-2.04371299,  0.31389153],\n",
       "       [ 2.25520575,  1.89312658],\n",
       "       [-2.32821566,  0.18612349],\n",
       "       [-0.41435801, -1.98875351],\n",
       "       [ 1.44705447,  0.66672748],\n",
       "       [ 2.19851825,  0.68997732],\n",
       "       [-0.42257991, -1.94397583],\n",
       "       [ 2.76213322,  1.54543423],\n",
       "       [-2.84540302,  1.94250398],\n",
       "       [-1.5915982 , -1.41522865],\n",
       "       [-3.35600644,  1.14127988],\n",
       "       [ 1.67829924,  0.10816612],\n",
       "       [-2.94150833,  0.3885073 ],\n",
       "       [-2.30405629,  2.15027517],\n",
       "       [-3.49291623,  1.29239829],\n",
       "       [ 2.33527547,  0.3435751 ],\n",
       "       [ 1.46219731, -2.05255915],\n",
       "       [-0.43118871, -2.4048574 ],\n",
       "       [ 0.42256584, -1.05544618],\n",
       "       [ 0.52658784, -3.87214144],\n",
       "       [-2.72797263,  1.58306403],\n",
       "       [-3.17868679,  2.71193573],\n",
       "       [-0.62158919, -1.0446325 ],\n",
       "       [-1.40436141, -1.47634167],\n",
       "       [ 0.91169846,  0.65475647],\n",
       "       [ 1.12423581, -1.34653907],\n",
       "       [-2.84547545,  1.32732299],\n",
       "       [-2.36335963,  2.43164111],\n",
       "       [ 2.54578547,  1.85201533],\n",
       "       [ 3.21543609,  1.84137496],\n",
       "       [-2.74703277,  0.19539224],\n",
       "       [-1.05186423, -1.83455849],\n",
       "       [-1.50826783, -0.99164925],\n",
       "       [-0.53471293, -2.50577398],\n",
       "       [ 1.40057023,  0.66105221],\n",
       "       [ 1.10794215,  0.24580628],\n",
       "       [ 2.83487283,  0.95812357],\n",
       "       [-0.52771371, -2.59472825],\n",
       "       [ 0.31128129, -2.28677331],\n",
       "       [-0.06526682, -2.04360861],\n",
       "       [ 2.91835495,  0.82035658],\n",
       "       [-2.40719925,  2.23612256]])"
      ]
     },
     "execution_count": 56,
     "metadata": {},
     "output_type": "execute_result"
    }
   ],
   "source": [
    "X_train_pca = X_train_std.dot(w)\n",
    "# 124 x 2\n",
    "X_train_pca"
   ]
  },
  {
   "cell_type": "code",
   "execution_count": 57,
   "metadata": {
    "collapsed": true
   },
   "outputs": [],
   "source": [
    "import matplotlib.pyplot as plt\n",
    "import seaborn as sns"
   ]
  },
  {
   "cell_type": "code",
   "execution_count": 58,
   "metadata": {
    "collapsed": false
   },
   "outputs": [
    {
     "data": {
      "image/png": "[encoded data removed]",
      "text/plain": [
       "<matplotlib.figure.Figure at 0x7fd5661e29e8>"
      ]
     },
     "metadata": {},
     "output_type": "display_data"
    }
   ],
   "source": [
    "colors = ['r', 'b', 'g']\n",
    "markers = ['s', 'x', 'o']\n",
    "for l, c, m in zip(np.unique(y_train), colors, markers):\n",
    "    plt.scatter(X_train_pca[y_train == l, 0],\n",
    "        X_train_pca[y_train == l, 1],\n",
    "        c=c, label=l, marker=m)\n",
    "plt.show()"
   ]
  },
  {
   "cell_type": "code",
   "execution_count": 59,
   "metadata": {
    "collapsed": true
   },
   "outputs": [],
   "source": [
    "import sys\n",
    "sys.path.append('../commonLib')"
   ]
  },
  {
   "cell_type": "code",
   "execution_count": 60,
   "metadata": {
    "collapsed": true
   },
   "outputs": [],
   "source": [
    "#使用 sklearn 进行 PCA\n",
    "\n",
    "from sklearn.linear_model import  LogisticRegression\n",
    "from sklearn.decomposition import PCA"
   ]
  },
  {
   "cell_type": "code",
   "execution_count": 61,
   "metadata": {
    "collapsed": false
   },
   "outputs": [
    {
     "data": {
      "text/plain": [
       "LogisticRegression(C=1.0, class_weight=None, dual=False, fit_intercept=True,\n",
       "          intercept_scaling=1, max_iter=100, multi_class='ovr', n_jobs=1,\n",
       "          penalty='l2', random_state=None, solver='liblinear', tol=0.0001,\n",
       "          verbose=0, warm_start=False)"
      ]
     },
     "execution_count": 61,
     "metadata": {},
     "output_type": "execute_result"
    }
   ],
   "source": [
    "pca = PCA(n_components=2)\n",
    "lr = LogisticRegression()\n",
    "X_train_pca = pca.fit_transform(X_train_std)\n",
    "X_test_pca = pca.transform(X_test_std)\n",
    "lr.fit(X_train_pca, y_train)"
   ]
  },
  {
   "cell_type": "code",
   "execution_count": 62,
   "metadata": {
    "collapsed": true
   },
   "outputs": [],
   "source": [
    "import pdr"
   ]
  },
  {
   "cell_type": "code",
   "execution_count": 66,
   "metadata": {
    "collapsed": false
   },
   "outputs": [
    {
     "data": {
      "image/png": "[encoded data removed]",
      "text/plain": [
       "<matplotlib.figure.Figure at 0x7fd56664a390>"
      ]
     },
     "metadata": {},
     "output_type": "display_data"
    }
   ],
   "source": [
    "pdr.plot_decision_regions(X_train_pca, y_train, classifier=lr)\n",
    "# plt.legend(loc='upper left')\n",
    "plt.show()"
   ]
  },
  {
   "cell_type": "code",
   "execution_count": 67,
   "metadata": {
    "collapsed": false
   },
   "outputs": [
    {
     "data": {
      "image/png": "[encoded data removed]",
      "text/plain": [
       "<matplotlib.figure.Figure at 0x7fd56664ae10>"
      ]
     },
     "metadata": {},
     "output_type": "display_data"
    }
   ],
   "source": [
    "pdr.plot_decision_regions(X_test_pca, y_test, classifier=lr)\n",
    "# plt.legend(loc='upper left')\n",
    "plt.show()"
   ]
  },
  {
   "cell_type": "markdown",
   "metadata": {},
   "source": [
    "# 如何使用 sklearn 计算方差贡献率"
   ]
  },
  {
   "cell_type": "code",
   "execution_count": 68,
   "metadata": {
    "collapsed": true
   },
   "outputs": [],
   "source": [
    "pca = PCA(n_components=None)\n",
    "X_train_pca = pca.fit_transform(X_train_std)"
   ]
  },
  {
   "cell_type": "code",
   "execution_count": 70,
   "metadata": {
    "collapsed": false
   },
   "outputs": [
    {
     "data": {
      "text/plain": [
       "(124, 13)"
      ]
     },
     "execution_count": 70,
     "metadata": {},
     "output_type": "execute_result"
    }
   ],
   "source": [
    "X_train_pca.shape"
   ]
  },
  {
   "cell_type": "code",
   "execution_count": 71,
   "metadata": {
    "collapsed": false
   },
   "outputs": [
    {
     "data": {
      "text/plain": [
       "array([ 4.8528542 ,  2.44646039,  1.41658279,  1.00417063,  0.8422173 ,\n",
       "        0.5969618 ,  0.51830163,  0.32784885,  0.29356349,  0.23802018,\n",
       "        0.21259371,  0.16695518,  0.08346984])"
      ]
     },
     "execution_count": 71,
     "metadata": {},
     "output_type": "execute_result"
    }
   ],
   "source": [
    "pca.explained_variance_"
   ]
  },
  {
   "cell_type": "code",
   "execution_count": 72,
   "metadata": {
    "collapsed": false
   },
   "outputs": [
    {
     "data": {
      "text/plain": [
       "array([ 0.37329648,  0.18818926,  0.10896791,  0.07724389,  0.06478595,\n",
       "        0.04592014,  0.03986936,  0.02521914,  0.02258181,  0.01830924,\n",
       "        0.01635336,  0.01284271,  0.00642076])"
      ]
     },
     "execution_count": 72,
     "metadata": {},
     "output_type": "execute_result"
    }
   ],
   "source": [
    "pca.explained_variance_ratio_"
   ]
  }
 ],
 "metadata": {
  "kernelspec": {
   "display_name": "Python 3",
   "language": "python",
   "name": "python3"
  },
  "language_info": {
   "codemirror_mode": {
    "name": "ipython",
    "version": 3
   },
   "file_extension": ".py",
   "mimetype": "text/x-python",
   "name": "python",
   "nbconvert_exporter": "python",
   "pygments_lexer": "ipython3",
   "version": "3.5.3"
  }
 },
 "nbformat": 4,
 "nbformat_minor": 2
}
